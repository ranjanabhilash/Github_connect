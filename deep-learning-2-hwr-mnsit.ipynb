{
 "cells": [
  {
   "cell_type": "code",
   "execution_count": 1,
   "id": "7cd4ba7b",
   "metadata": {
    "_cell_guid": "b1076dfc-b9ad-4769-8c92-a6c4dae69d19",
    "_uuid": "8f2839f25d086af736a60e9eeb907d3b93b6e0e5",
    "execution": {
     "iopub.execute_input": "2024-10-25T11:17:15.327953Z",
     "iopub.status.busy": "2024-10-25T11:17:15.326928Z",
     "iopub.status.idle": "2024-10-25T11:17:16.344649Z",
     "shell.execute_reply": "2024-10-25T11:17:16.342700Z"
    },
    "papermill": {
     "duration": 1.027618,
     "end_time": "2024-10-25T11:17:16.347361",
     "exception": false,
     "start_time": "2024-10-25T11:17:15.319743",
     "status": "completed"
    },
    "tags": []
   },
   "outputs": [
    {
     "name": "stdout",
     "output_type": "stream",
     "text": [
      "/kaggle/input/mnist-hwr/mnist.npz\n"
     ]
    }
   ],
   "source": [
    "# This Python 3 environment comes with many helpful analytics libraries installed\n",
    "# It is defined by the kaggle/python Docker image: https://github.com/kaggle/docker-python\n",
    "# For example, here's several helpful packages to load\n",
    "\n",
    "import numpy as np # linear algebra\n",
    "import pandas as pd # data processing, CSV file I/O (e.g. pd.read_csv)\n",
    "\n",
    "# Input data files are available in the read-only \"../input/\" directory\n",
    "# For example, running this (by clicking run or pressing Shift+Enter) will list all files under the input directory\n",
    "\n",
    "import os\n",
    "for dirname, _, filenames in os.walk('/kaggle/input'):\n",
    "    for filename in filenames:\n",
    "        print(os.path.join(dirname, filename))\n",
    "\n",
    "# You can write up to 20GB to the current directory (/kaggle/working/) that gets preserved as output when you create a version using \"Save & Run All\" \n",
    "# You can also write temporary files to /kaggle/temp/, but they won't be saved outside of the current session"
   ]
  },
  {
   "cell_type": "markdown",
   "id": "d4a663b6",
   "metadata": {
    "papermill": {
     "duration": 0.002907,
     "end_time": "2024-10-25T11:17:16.353915",
     "exception": false,
     "start_time": "2024-10-25T11:17:16.351008",
     "status": "completed"
    },
    "tags": []
   },
   "source": [
    "# MNIST Digit Classification using Deep Learning (Neural Network)"
   ]
  },
  {
   "cell_type": "markdown",
   "id": "57a3f34a",
   "metadata": {
    "papermill": {
     "duration": 0.002901,
     "end_time": "2024-10-25T11:17:16.360225",
     "exception": false,
     "start_time": "2024-10-25T11:17:16.357324",
     "status": "completed"
    },
    "tags": []
   },
   "source": [
    "## Import Libraries"
   ]
  },
  {
   "cell_type": "code",
   "execution_count": 2,
   "id": "5ddfb3dc",
   "metadata": {
    "execution": {
     "iopub.execute_input": "2024-10-25T11:17:16.369047Z",
     "iopub.status.busy": "2024-10-25T11:17:16.367745Z",
     "iopub.status.idle": "2024-10-25T11:17:33.086234Z",
     "shell.execute_reply": "2024-10-25T11:17:33.085062Z"
    },
    "papermill": {
     "duration": 16.725791,
     "end_time": "2024-10-25T11:17:33.089105",
     "exception": false,
     "start_time": "2024-10-25T11:17:16.363314",
     "status": "completed"
    },
    "tags": []
   },
   "outputs": [],
   "source": [
    "import numpy as np\n",
    "import matplotlib.pyplot as plt\n",
    "import seaborn as sns\n",
    "import cv2\n",
    "from PIL import Image\n",
    "import tensorflow as tf\n",
    "tf.random.set_seed(3)\n",
    "from tensorflow import keras\n",
    "from keras.datasets import mnist\n",
    "from tensorflow.math import confusion_matrix\n",
    "\n",
    "# Note: You can use plt.imshow() instead of cv2_imshow() for displaying images in Kaggle\n",
    "\n"
   ]
  },
  {
   "cell_type": "markdown",
   "id": "c766d880",
   "metadata": {
    "papermill": {
     "duration": 0.002956,
     "end_time": "2024-10-25T11:17:33.095491",
     "exception": false,
     "start_time": "2024-10-25T11:17:33.092535",
     "status": "completed"
    },
    "tags": []
   },
   "source": [
    "## Loading the MNSIT Data from keras"
   ]
  },
  {
   "cell_type": "code",
   "execution_count": 3,
   "id": "23cd2f9e",
   "metadata": {
    "execution": {
     "iopub.execute_input": "2024-10-25T11:17:33.103882Z",
     "iopub.status.busy": "2024-10-25T11:17:33.103175Z",
     "iopub.status.idle": "2024-10-25T11:17:33.110800Z",
     "shell.execute_reply": "2024-10-25T11:17:33.109216Z"
    },
    "papermill": {
     "duration": 0.014678,
     "end_time": "2024-10-25T11:17:33.113320",
     "exception": false,
     "start_time": "2024-10-25T11:17:33.098642",
     "status": "completed"
    },
    "tags": []
   },
   "outputs": [
    {
     "name": "stdout",
     "output_type": "stream",
     "text": [
      "['mnist-hwr']\n"
     ]
    }
   ],
   "source": [
    "import os\n",
    "\n",
    "print(os.listdir('/kaggle/input/'))\n"
   ]
  },
  {
   "cell_type": "code",
   "execution_count": 4,
   "id": "b90d9b5f",
   "metadata": {
    "execution": {
     "iopub.execute_input": "2024-10-25T11:17:33.122328Z",
     "iopub.status.busy": "2024-10-25T11:17:33.121898Z",
     "iopub.status.idle": "2024-10-25T11:17:33.128301Z",
     "shell.execute_reply": "2024-10-25T11:17:33.127129Z"
    },
    "papermill": {
     "duration": 0.015111,
     "end_time": "2024-10-25T11:17:33.131793",
     "exception": false,
     "start_time": "2024-10-25T11:17:33.116682",
     "status": "completed"
    },
    "tags": []
   },
   "outputs": [
    {
     "name": "stdout",
     "output_type": "stream",
     "text": [
      "['mnist.npz']\n"
     ]
    }
   ],
   "source": [
    "print(os.listdir('/kaggle/input/mnist-hwr/'))\n"
   ]
  },
  {
   "cell_type": "code",
   "execution_count": 5,
   "id": "28a8e001",
   "metadata": {
    "execution": {
     "iopub.execute_input": "2024-10-25T11:17:33.141617Z",
     "iopub.status.busy": "2024-10-25T11:17:33.141190Z",
     "iopub.status.idle": "2024-10-25T11:17:33.574723Z",
     "shell.execute_reply": "2024-10-25T11:17:33.573297Z"
    },
    "papermill": {
     "duration": 0.44171,
     "end_time": "2024-10-25T11:17:33.577690",
     "exception": false,
     "start_time": "2024-10-25T11:17:33.135980",
     "status": "completed"
    },
    "tags": []
   },
   "outputs": [
    {
     "name": "stdout",
     "output_type": "stream",
     "text": [
      "(60000, 28, 28) (60000,)\n",
      "(10000, 28, 28) (10000,)\n"
     ]
    }
   ],
   "source": [
    "\n",
    "# Load the dataset\n",
    "with np.load('/kaggle/input/mnist-hwr/mnist.npz') as data:\n",
    "    X_train, Y_train = data['x_train'], data['y_train']\n",
    "    X_test, Y_test = data['x_test'], data['y_test']\n",
    "\n",
    "# Check the shapes of the loaded data\n",
    "print(X_train.shape, Y_train.shape)\n",
    "print(X_test.shape, Y_test.shape)\n"
   ]
  },
  {
   "cell_type": "code",
   "execution_count": 6,
   "id": "d0a0c6a0",
   "metadata": {
    "execution": {
     "iopub.execute_input": "2024-10-25T11:17:33.586787Z",
     "iopub.status.busy": "2024-10-25T11:17:33.586368Z",
     "iopub.status.idle": "2024-10-25T11:17:33.594501Z",
     "shell.execute_reply": "2024-10-25T11:17:33.593398Z"
    },
    "papermill": {
     "duration": 0.015505,
     "end_time": "2024-10-25T11:17:33.596841",
     "exception": false,
     "start_time": "2024-10-25T11:17:33.581336",
     "status": "completed"
    },
    "tags": []
   },
   "outputs": [
    {
     "data": {
      "text/plain": [
       "numpy.ndarray"
      ]
     },
     "execution_count": 6,
     "metadata": {},
     "output_type": "execute_result"
    }
   ],
   "source": [
    "type(X_train)"
   ]
  },
  {
   "cell_type": "code",
   "execution_count": null,
   "id": "8a4f8540",
   "metadata": {
    "papermill": {
     "duration": 0.003318,
     "end_time": "2024-10-25T11:17:33.603727",
     "exception": false,
     "start_time": "2024-10-25T11:17:33.600409",
     "status": "completed"
    },
    "tags": []
   },
   "outputs": [],
   "source": []
  }
 ],
 "metadata": {
  "kaggle": {
   "accelerator": "none",
   "dataSources": [
    {
     "datasetId": 5946318,
     "sourceId": 9719308,
     "sourceType": "datasetVersion"
    }
   ],
   "dockerImageVersionId": 30786,
   "isGpuEnabled": false,
   "isInternetEnabled": false,
   "language": "python",
   "sourceType": "notebook"
  },
  "kernelspec": {
   "display_name": "Python 3",
   "language": "python",
   "name": "python3"
  },
  "language_info": {
   "codemirror_mode": {
    "name": "ipython",
    "version": 3
   },
   "file_extension": ".py",
   "mimetype": "text/x-python",
   "name": "python",
   "nbconvert_exporter": "python",
   "pygments_lexer": "ipython3",
   "version": "3.10.14"
  },
  "papermill": {
   "default_parameters": {},
   "duration": 23.494147,
   "end_time": "2024-10-25T11:17:35.843694",
   "environment_variables": {},
   "exception": null,
   "input_path": "__notebook__.ipynb",
   "output_path": "__notebook__.ipynb",
   "parameters": {},
   "start_time": "2024-10-25T11:17:12.349547",
   "version": "2.6.0"
  }
 },
 "nbformat": 4,
 "nbformat_minor": 5
}
